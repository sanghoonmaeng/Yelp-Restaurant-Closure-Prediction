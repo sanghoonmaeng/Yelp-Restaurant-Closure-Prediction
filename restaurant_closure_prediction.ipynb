{
 "cells": [
  {
   "cell_type": "markdown",
   "id": "950e3753",
   "metadata": {},
   "source": [
    "# Predicting the Restaurant Closure"
   ]
  },
  {
   "cell_type": "markdown",
   "id": "18bfc9ac",
   "metadata": {},
   "source": [
    "In the previous section, we used the Yelp dataset to create several features for our restaurant closure prediction model. We will now train the model and predict the restaurant closure."
   ]
  },
  {
   "cell_type": "code",
   "execution_count": 1,
   "id": "4d76a2aa",
   "metadata": {},
   "outputs": [],
   "source": [
    "import numpy as np\n",
    "import pandas as pd\n",
    "import seaborn as sns\n",
    "import matplotlib.pyplot as plt\n",
    "from sklearn.model_selection import train_test_split\n",
    "from sklearn.linear_model import LogisticRegression\n",
    "from sklearn.metrics import precision_score\n",
    "from sklearn.metrics import accuracy_score\n",
    "from sklearn.metrics import confusion_matrix\n",
    "from sklearn.metrics import roc_curve, auc"
   ]
  },
  {
   "cell_type": "code",
   "execution_count": 2,
   "id": "f0ffcfbe",
   "metadata": {},
   "outputs": [
    {
     "data": {
      "text/html": [
       "<div>\n",
       "<style scoped>\n",
       "    .dataframe tbody tr th:only-of-type {\n",
       "        vertical-align: middle;\n",
       "    }\n",
       "\n",
       "    .dataframe tbody tr th {\n",
       "        vertical-align: top;\n",
       "    }\n",
       "\n",
       "    .dataframe thead th {\n",
       "        text-align: right;\n",
       "    }\n",
       "</style>\n",
       "<table border=\"1\" class=\"dataframe\">\n",
       "  <thead>\n",
       "    <tr style=\"text-align: right;\">\n",
       "      <th></th>\n",
       "      <th>business_id</th>\n",
       "      <th>stars_business</th>\n",
       "      <th>review_count</th>\n",
       "      <th>is_open</th>\n",
       "      <th>is_chain</th>\n",
       "      <th>relative_review</th>\n",
       "      <th>polarity_score</th>\n",
       "      <th>yelp_age</th>\n",
       "      <th>recent_reviews</th>\n",
       "      <th>check_in_counts</th>\n",
       "    </tr>\n",
       "  </thead>\n",
       "  <tbody>\n",
       "    <tr>\n",
       "      <th>0</th>\n",
       "      <td>---kPU91CF4Lq2-WlRu9Lw</td>\n",
       "      <td>4.5</td>\n",
       "      <td>0.002512</td>\n",
       "      <td>1</td>\n",
       "      <td>0</td>\n",
       "      <td>-0.252754</td>\n",
       "      <td>0.851179</td>\n",
       "      <td>0.116569</td>\n",
       "      <td>0.006757</td>\n",
       "      <td>0.000274</td>\n",
       "    </tr>\n",
       "    <tr>\n",
       "      <th>1</th>\n",
       "      <td>--0iUa4sNDFiZFrAdIWhZQ</td>\n",
       "      <td>3.0</td>\n",
       "      <td>0.001190</td>\n",
       "      <td>1</td>\n",
       "      <td>0</td>\n",
       "      <td>-0.462739</td>\n",
       "      <td>0.544421</td>\n",
       "      <td>0.721304</td>\n",
       "      <td>0.000000</td>\n",
       "      <td>0.000249</td>\n",
       "    </tr>\n",
       "    <tr>\n",
       "      <th>2</th>\n",
       "      <td>--8IbOsAAxjKRoYsBFL-PA</td>\n",
       "      <td>3.0</td>\n",
       "      <td>0.002909</td>\n",
       "      <td>0</td>\n",
       "      <td>1</td>\n",
       "      <td>-0.300230</td>\n",
       "      <td>0.261070</td>\n",
       "      <td>0.218872</td>\n",
       "      <td>0.000000</td>\n",
       "      <td>0.000798</td>\n",
       "    </tr>\n",
       "    <tr>\n",
       "      <th>3</th>\n",
       "      <td>--ARBQr1WMsTWiwOKOj-FQ</td>\n",
       "      <td>4.5</td>\n",
       "      <td>0.002380</td>\n",
       "      <td>0</td>\n",
       "      <td>0</td>\n",
       "      <td>-0.355721</td>\n",
       "      <td>0.920148</td>\n",
       "      <td>0.186933</td>\n",
       "      <td>0.004505</td>\n",
       "      <td>0.000848</td>\n",
       "    </tr>\n",
       "    <tr>\n",
       "      <th>4</th>\n",
       "      <td>--MbOh2O1pATkXa7xbU6LA</td>\n",
       "      <td>4.0</td>\n",
       "      <td>0.002644</td>\n",
       "      <td>0</td>\n",
       "      <td>0</td>\n",
       "      <td>-0.472317</td>\n",
       "      <td>0.844852</td>\n",
       "      <td>0.270914</td>\n",
       "      <td>0.005631</td>\n",
       "      <td>0.002568</td>\n",
       "    </tr>\n",
       "  </tbody>\n",
       "</table>\n",
       "</div>"
      ],
      "text/plain": [
       "              business_id  stars_business  review_count  is_open  is_chain  \\\n",
       "0  ---kPU91CF4Lq2-WlRu9Lw             4.5      0.002512        1         0   \n",
       "1  --0iUa4sNDFiZFrAdIWhZQ             3.0      0.001190        1         0   \n",
       "2  --8IbOsAAxjKRoYsBFL-PA             3.0      0.002909        0         1   \n",
       "3  --ARBQr1WMsTWiwOKOj-FQ             4.5      0.002380        0         0   \n",
       "4  --MbOh2O1pATkXa7xbU6LA             4.0      0.002644        0         0   \n",
       "\n",
       "   relative_review  polarity_score  yelp_age  recent_reviews  check_in_counts  \n",
       "0        -0.252754        0.851179  0.116569        0.006757         0.000274  \n",
       "1        -0.462739        0.544421  0.721304        0.000000         0.000249  \n",
       "2        -0.300230        0.261070  0.218872        0.000000         0.000798  \n",
       "3        -0.355721        0.920148  0.186933        0.004505         0.000848  \n",
       "4        -0.472317        0.844852  0.270914        0.005631         0.002568  "
      ]
     },
     "execution_count": 2,
     "metadata": {},
     "output_type": "execute_result"
    }
   ],
   "source": [
    "final_data = pd.read_pickle('data/yelp_final_data.pkl') # Reads the data saved from the features file\n",
    "final_data.head(5)"
   ]
  },
  {
   "cell_type": "markdown",
   "id": "a22d9319",
   "metadata": {},
   "source": [
    "Just to recap, we have the following features:\n",
    "- **stars_business**: restaurant's average rating received by the customers. The stars vary from 1 to 5.\n",
    "- **review_count**: scaled number of reviews written for the restaurant.\n",
    "- **is_chain**: classifies if the restaurant is part of chain/franchise business, like McDonalds.\n",
    "- **relative_review**: number of reviews written for the restaurant, relative to the restaurants located nearby.\n",
    "- **polarity_score**: average sentiment score of how good/bad was the customer's review.\n",
    "- **yelp_age**: scaled age of how long the business has been open based on the first and the last Yelp review\n",
    "- **check_in_counts**: scaled number of check-ins for a restaurant.\n",
    "\n",
    "Since we are trying to predict if the restaurant is going to be open or not (1 or 0 respectively), we will use a logistic regression."
   ]
  },
  {
   "cell_type": "code",
   "execution_count": 3,
   "id": "0ba9120a",
   "metadata": {},
   "outputs": [
    {
     "data": {
      "text/plain": [
       "(63757, 10)"
      ]
     },
     "execution_count": 3,
     "metadata": {},
     "output_type": "execute_result"
    }
   ],
   "source": [
    "final_data.shape # Double checks if any of the data is lost"
   ]
  },
  {
   "cell_type": "code",
   "execution_count": 4,
   "id": "62c9c8db",
   "metadata": {},
   "outputs": [
    {
     "name": "stdout",
     "output_type": "stream",
     "text": [
      "43,914 restaurants are open and 19,843 are closed\n"
     ]
    }
   ],
   "source": [
    "print(f\"{final_data['is_open'].value_counts()[1]:,} restaurants are open and {final_data['is_open'].value_counts()[0]:,} are closed\")"
   ]
  },
  {
   "cell_type": "markdown",
   "id": "9d9b6e9f",
   "metadata": {},
   "source": [
    "***\n",
    "## Logistic Regression Model"
   ]
  },
  {
   "cell_type": "markdown",
   "id": "41d70a20",
   "metadata": {},
   "source": [
    "Suppose we create an indiscriminate model that predicts the business will stay open all the time. Then, this model would predict with $\\frac{43914}{43914+19843} = \\frac{43914}{63757} \\approx$ 68.88%  accuracy and  precision. Hence, our model should do better than this baseline to be useful. \n",
    "\n",
    "We will now split the data into a train set and a test set."
   ]
  },
  {
   "cell_type": "code",
   "execution_count": 5,
   "id": "ac3d09df",
   "metadata": {},
   "outputs": [],
   "source": [
    "features = final_data.drop(columns=[\"business_id\", \"is_open\"])\n",
    "close = final_data[\"is_open\"]\n",
    "\n",
    "X_train, X_test, y_train, y_test = train_test_split(features, close, test_size=0.2, stratify=close)"
   ]
  },
  {
   "cell_type": "markdown",
   "id": "db8ea651",
   "metadata": {},
   "source": [
    "We will use the **stratify** parameter here since the data is skewed toward the open restaurants. This should ensure that the target variable (*is_open*) is proportionally represented in both the training and testing datasets. Let's train our model and analyze the result."
   ]
  },
  {
   "cell_type": "code",
   "execution_count": 6,
   "id": "9563cd05",
   "metadata": {
    "scrolled": true
   },
   "outputs": [
    {
     "name": "stdout",
     "output_type": "stream",
     "text": [
      "Test Accuracy:  74.937265%\n",
      "Test Precision:  77.628326%\n"
     ]
    }
   ],
   "source": [
    "model = LogisticRegression()\n",
    "model.fit(X_train, y_train)\n",
    "\n",
    "y_pred = model.predict(X_test)\n",
    "\n",
    "print(f\"Test Accuracy: {accuracy_score(y_test, y_pred): %}\")\n",
    "print(f\"Test Precision: {precision_score(y_test, y_pred): %}\")"
   ]
  },
  {
   "cell_type": "code",
   "execution_count": 7,
   "id": "8d642ad6",
   "metadata": {},
   "outputs": [
    {
     "data": {
      "image/png": "[encoded data removed]",
      "text/plain": [
       "<Figure size 1080x648 with 2 Axes>"
      ]
     },
     "metadata": {},
     "output_type": "display_data"
    }
   ],
   "source": [
    "# Configures the plot style\n",
    "sns.set(style=\"darkgrid\", context=\"talk\", palette=\"Dark2\")\n",
    "sns.set(rc={\"figure.figsize\": (15,9)})\n",
    "\n",
    "sns.heatmap(confusion_matrix(y_test, y_pred), fmt=\"g\", annot=True, cmap=\"Blues\")\n",
    "\n",
    "plt.xlabel(\"Predicted\")\n",
    "plt.ylabel(\"Actual\")\n",
    "plt.title(\"Confusion Matrix\")\n",
    "plt.show()"
   ]
  },
  {
   "cell_type": "markdown",
   "id": "fff40032",
   "metadata": {},
   "source": [
    "Our model has better accuracy and precision than an indiscriminate model that predicts *open* all the time, but the confusion matrix tells us that the model is having trouble predicting the *closed* restaurants.\n",
    "\n",
    "Moreover, since the prediction model is suppose to be helpful to the investors (like banks), we would like to increase precision over accruacy, and hence, we will increase the threshold value, which is a decision boundary that separates the positive and negative classes."
   ]
  },
  {
   "cell_type": "code",
   "execution_count": 8,
   "id": "d1cb6b67",
   "metadata": {},
   "outputs": [
    {
     "name": "stdout",
     "output_type": "stream",
     "text": [
      "Test Accuracy:  68.891154%\n",
      "Test Precision:  84.597701%\n"
     ]
    }
   ],
   "source": [
    "probs = model.predict_proba(X_test)\n",
    "threshold = 0.7 # Can be increased/decreased depending on the goal\n",
    "y_pred = (probs[:, 1] >= threshold).astype(int)\n",
    "\n",
    "print(f\"Test Accuracy: {accuracy_score(y_test, y_pred): %}\")\n",
    "print(f\"Test Precision: {precision_score(y_test, y_pred): %}\")"
   ]
  },
  {
   "cell_type": "code",
   "execution_count": 9,
   "id": "2f257a5b",
   "metadata": {},
   "outputs": [
    {
     "data": {
      "image/png": "[encoded data removed]",
      "text/plain": [
       "<Figure size 1080x648 with 2 Axes>"
      ]
     },
     "metadata": {},
     "output_type": "display_data"
    }
   ],
   "source": [
    "sns.heatmap(confusion_matrix(y_test, y_pred), fmt=\"g\", annot=True, cmap=\"Blues\")\n",
    "\n",
    "plt.xlabel(\"Predicted\")\n",
    "plt.ylabel(\"Actual\")\n",
    "plt.title(\"Confusion Matrix with Threshold\")\n",
    "plt.show()"
   ]
  },
  {
   "cell_type": "markdown",
   "id": "73a39821",
   "metadata": {},
   "source": [
    "As expected, the accruacy decreased but the precision increased, as the number of false negative decreased according to the confusion matrix. Let's check the mean accuracy and precision to make sure that our results are not due to chance."
   ]
  },
  {
   "cell_type": "code",
   "execution_count": 10,
   "id": "19eadaf4",
   "metadata": {},
   "outputs": [
    {
     "name": "stdout",
     "output_type": "stream",
     "text": [
      "Mean Test Accuracy:  69.313770%\n",
      "Mean Test Precision:  84.768506%\n"
     ]
    }
   ],
   "source": [
    "accuracies = [] \n",
    "precisions = []\n",
    "\n",
    "for i in range(1000):\n",
    "    X_train, X_test, y_train, y_test = train_test_split(features, close, test_size=0.2, stratify=close)\n",
    "    \n",
    "    model = LogisticRegression(max_iter=1000)\n",
    "    model.fit(X_train, y_train)\n",
    "\n",
    "    probs = model.predict_proba(X_test)\n",
    "    \n",
    "    threshold = 0.7\n",
    "    y_pred = (probs[:, 1] >= threshold).astype(int)\n",
    "\n",
    "    accuracy = accuracy_score(y_test, y_pred)\n",
    "    precision = precision_score(y_test, y_pred)\n",
    "    \n",
    "    accuracies.append(accuracy)\n",
    "    precisions.append(precision)\n",
    "\n",
    "print(f\"Mean Test Accuracy: {np.mean(accuracies): %}\")\n",
    "print(f\"Mean Test Precision: {np.mean(precisions): %}\")"
   ]
  },
  {
   "cell_type": "markdown",
   "id": "d4c0c0fd",
   "metadata": {},
   "source": [
    "The model achieves a relatively higher **precision** rate compare to the indiscriminate model, but however, it basically has the same accuracy rate. I think our model is a decent classifier, given that my friend Andrew's model achieves an average precision of 80% and accuracy of 64% with 5 features and other referenced model achieves an average precision of 91% and accuracy of 65% with a lot more features."
   ]
  },
  {
   "cell_type": "markdown",
   "id": "4b3ee00b",
   "metadata": {},
   "source": [
    "***\n",
    "## Model Analysis"
   ]
  },
  {
   "cell_type": "markdown",
   "id": "33ba0cd6",
   "metadata": {},
   "source": [
    "We will take a closer look at the model by analyzing the ROC curve and the AUC score. This will help us to understand if the model is able to classify the target variable (*is_open*) relatively well. Keep in mind that the model is \"better\" if the ROC curve is converging to 1 faster (closer to the top left corner) and if the AUC score is closer to 1."
   ]
  },
  {
   "cell_type": "code",
   "execution_count": 11,
   "id": "c4ef5cff",
   "metadata": {},
   "outputs": [
    {
     "data": {
      "text/plain": [
       "Text(0.5, 1.0, 'ROC Curve')"
      ]
     },
     "execution_count": 11,
     "metadata": {},
     "output_type": "execute_result"
    },
    {
     "data": {
      "image/png": "[encoded data removed]",
      "text/plain": [
       "<Figure size 1080x648 with 1 Axes>"
      ]
     },
     "metadata": {},
     "output_type": "display_data"
    }
   ],
   "source": [
    "prob = model.predict_proba(X_test) # Use predict_proba method for the threshold\n",
    "prob = prob[:, 1]\n",
    "\n",
    "fpr, tpr, thresholds = roc_curve(y_test, prob)\n",
    "\n",
    "sns.lineplot(x=fpr, y=tpr) # ROC Curve\n",
    "plt.plot([0, 1], [0, 1], linestyle=\"--\", color=\"gray\") # Adds linear line for the indiscriminate model\n",
    "\n",
    "plt.xlabel(\"False Positive Rate\")\n",
    "plt.ylabel(\"True Positive Rate\")\n",
    "plt.title(\"ROC Curve\")"
   ]
  },
  {
   "cell_type": "code",
   "execution_count": 12,
   "id": "0d068db0",
   "metadata": {},
   "outputs": [
    {
     "name": "stdout",
     "output_type": "stream",
     "text": [
      "AUC Score: 0.7721\n"
     ]
    }
   ],
   "source": [
    "auc_score = auc(fpr, tpr)\n",
    "print(f\"AUC Score: {round(auc_score, 5)}\")"
   ]
  },
  {
   "cell_type": "markdown",
   "id": "15655239",
   "metadata": {},
   "source": [
    "The ROC curve and the AUC score suggest that our model is not that great, but it is not so terrible either, given that we did not have as many features. Now, we will take a look at the coefficients of the features that were used in the model to predict the outcome."
   ]
  },
  {
   "cell_type": "code",
   "execution_count": 13,
   "id": "6a49b52d",
   "metadata": {},
   "outputs": [
    {
     "name": "stdout",
     "output_type": "stream",
     "text": [
      "stars_business: 1.39788\n",
      "review_count: -1.68926\n",
      "is_chain: 0.97412\n",
      "relative_review: 0.38861\n",
      "polarity_score: -3.71398\n",
      "yelp_age: 3.07011\n",
      "recent_reviews: 1.14738\n",
      "check_in_counts: -5.11534\n"
     ]
    }
   ],
   "source": [
    "feature_coefficient = model.fit(X_train, y_train).coef_[0]\n",
    "\n",
    "for feature, coefficient in zip(X_train.columns, feature_coefficient):\n",
    "    print(f'{feature}: {round(coefficient, 5)}')"
   ]
  },
  {
   "cell_type": "markdown",
   "id": "9cbaf262",
   "metadata": {},
   "source": [
    "### Stars\n",
    "As we anticipated, the the stars rating given to a restaurant is postively related to staying open. Higher stars (such as 5) gives higher confidence to the consumers by minimizing risk of bad dining experience, and shows that the restaurant is already proven worthy by the other customers.\n",
    "\n",
    "### Review Counts\n",
    "Surprisingly, the number of reviews is negatively related. Maybe our initial hypothesis on how more reviews guarantee a worthwhile experience was incorrect, and having more reviews does not necessarily mean the restaurant will stay open. In addition, I heard that some restaurants on Yelp receives spam reviews and sometimes even pay for the fake reviews, which then suggest that this feature might not be strongly correlated to the target variable.\n",
    "\n",
    "### Chain\n",
    "Whether a restaurant is part of franchise chain or not is positively related. Like we discussed in the previous section, the chain restaurants already have established their brands, and as a result, the consumers are already familiar with the taste & service. Most importantly, the chain restaurants can receive financial help from the headquarters, making harder for them to close down.\n",
    "\n",
    "### Relative Review\n",
    "The sign of the relative review of restaurant in the cluster of restaurants is also positive, which implies that restaurants in a locally dense area are more likely to stay open. The competition among restaurants could be attracting more customers to the region by providing new and more food options to the people.\n",
    "\n",
    "### Polarity Score\n",
    "The sentiment score calculated from the review texts is negatively related. This is odd because if the restaurant is getting negative reviews (such as -0.5), then the restaurant will likely to close down since fewer customers will visit the restaurants after reading the bad reviews on Yelp. It is possible that this feature is associated with the *review counts* feature and likewise, it also might not be a strong predictor variable.\n",
    "\n",
    "### Yelp Age\n",
    "The restaurant's Yelp age is positively related. Restaurants that were in business for a long time will continue to be in business since they are already established with the name value, and they probably have a consistent, stable profit model to earn more revenue.\n",
    "\n",
    "### Recent Reviews\n",
    "Number of latest/recent reviews received within a time interval is positively related as well. This is not surprising because having more recent reviews implies that the customers are dining in the restaurant consistently, and as a result, the probability of restaurant closure will decrease.\n",
    "\n",
    "### Check-in Counts\n",
    "Lastly, check-in counts are negatively related to the target variable, which is unexpected since more check-in should be related to having more customers. However, similar to *review counts* and *polarity score* features, the check-in counts could be misleading because it might be primarily used for social media purpose and not necessarily because the food and/or service of the restaurant is worth the money and time."
   ]
  },
  {
   "cell_type": "markdown",
   "id": "818f4066",
   "metadata": {},
   "source": [
    "***\n",
    "## Model Limitations"
   ]
  },
  {
   "cell_type": "markdown",
   "id": "258307f0",
   "metadata": {},
   "source": [
    "### Data Skewness\n",
    "When we initially explored the Yelp dataset, we found out that about 69% restaurants in the data were classified as open. As a result, our model classifies the open restaurants decently, but certainly has limitation with identifying the closed restaurants. We were able to trade-off the accuracy of the model with precision, which could be more important for the investors.\n",
    "\n",
    "### Incomplete Dataset\n",
    "The dataset was limited from the start because of the timing difference. The restaurants that were open in the Yelp dataset might not be open today. It also excludes the restaurants that closed down in the earlier period and the restaurants in rest of the states. Furthermore, we might have lost some of the data from our restaurant category filter. \n",
    "\n",
    "### Estimated Features\n",
    "The estimated Yelp age feature could be very off from the actual age since some restaurants might not have used Yelp until recently. For example, if a restaurant decides to list its name in 2018 after operating for more than 20 years, then clearly, the difference in age could cause an issue, especially if the restaurant closes down shortly after (say like 2019).\n",
    "\n",
    "VADER tool used to calculate the polarity score could be inaccurate since it will not capture sarcasm or negative words used for positive connotation. Maybe, we could consider different analytical tools such as Flair. \n",
    "\n",
    "By chance, restaurants that were identified as a chain might not actually be a chain. We decided that a restaurant is part of a chain if the same name appears in the data at least four times. Since the data is big, there is a chance that the same name appears more than four times and not be a chain. In addition, some of the smaller, successful restaurants often expand their businesses by opening a restaurant in a nearby location under the same name. In this case, we cannot easily decide if this restaurant should be classified as a chain or non-chain.\n",
    "\n",
    "### Predicting New Restaurants\n",
    "Our model might not work well with newly opened restaurants because of insufficent and skewed features. The new restaurants (or newly listed on Yelp in general) will have fewer review comments, low Yelp age, and possibly skewed stars rating. Hence, if the investors were to use this model to predict the closure of newly open restaurant, then we would expect a lower accuracy & precision."
   ]
  },
  {
   "cell_type": "markdown",
   "id": "488ed5af",
   "metadata": {},
   "source": [
    "***\n",
    "## Future Improvements"
   ]
  },
  {
   "cell_type": "markdown",
   "id": "2b9f6646",
   "metadata": {},
   "source": [
    "Building on my friend Andrew's and another person's projects, we can consider the following improvements.\n",
    "- Using photo data in the Yelp dataset to see if good food photos are correlated to the restaurant closure. Good photos taken by the customer could be a strong predictor than the reviews since it is less subjective, but however, it will be difficult to classify what is considered as a good/bad photo.\n",
    "- Compare the result with different models, such as random forest, and see which one performs the best, along with the optimized parameters for each models.\n",
    "- Including additional features in Yelp, like health inspection rate and the price range. Low health inspection score and could lead to a business shutdown.\n",
    "- See the demographics around the clusters that we created through GMM. Maybe a specific cuisine is more popular in the area, or determine if one area is more populated than the other.\n",
    "- Simply more data"
   ]
  },
  {
   "cell_type": "code",
   "execution_count": null,
   "id": "3b56fa02",
   "metadata": {},
   "outputs": [],
   "source": []
  }
 ],
 "metadata": {
  "kernelspec": {
   "display_name": "Python 3 (ipykernel)",
   "language": "python",
   "name": "python3"
  },
  "language_info": {
   "codemirror_mode": {
    "name": "ipython",
    "version": 3
   },
   "file_extension": ".py",
   "mimetype": "text/x-python",
   "name": "python",
   "nbconvert_exporter": "python",
   "pygments_lexer": "ipython3",
   "version": "3.9.7"
  }
 },
 "nbformat": 4,
 "nbformat_minor": 5
}
